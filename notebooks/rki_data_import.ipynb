{
 "cells": [
  {
   "cell_type": "markdown",
   "metadata": {},
   "source": [
    "# Data snippets to test data import stuff"
   ]
  },
  {
   "cell_type": "code",
   "execution_count": null,
   "metadata": {},
   "outputs": [],
   "source": [
    "import pandas as pd"
   ]
  },
  {
   "cell_type": "code",
   "execution_count": null,
   "metadata": {},
   "outputs": [],
   "source": [
    "urls = {\n",
    "    'Baden-Württemberg': 'https://npgeo-corona-npgeo-de.hub.arcgis.com/datasets/8a0b7d7c9fb442ffaa512221cf11366e_0.csv',\n",
    "    'Bayern': 'https://npgeo-corona-npgeo-de.hub.arcgis.com/datasets/45258e51f57d43efb612f700a876ae8f_0.csv',\n",
    "    'Berlin': 'https://npgeo-corona-npgeo-de.hub.arcgis.com/datasets/3949d6fd2dc74386b763e451f4c6e384_0.csv',\n",
    "    'Brandenburg': 'https://npgeo-corona-npgeo-de.hub.arcgis.com/datasets/5f81692e203a4888a64cb1976aafbd34_0.csv',\n",
    "    'Bremen': 'https://npgeo-corona-npgeo-de.hub.arcgis.com/datasets/f7bdcbe7188545daabe65e6c9e2a4379_0.csv',\n",
    "    'Hamburg': 'https://npgeo-corona-npgeo-de.hub.arcgis.com/datasets/ab2c1b9c36734faf937cd83dee339517_0.csv',\n",
    "    'Hessen': 'https://npgeo-corona-npgeo-de.hub.arcgis.com/datasets/3ed997d4a8a447f09ab122a1a432b070_0.csv',\n",
    "    'Mecklenburg-Vorpommern': 'https://npgeo-corona-npgeo-de.hub.arcgis.com/datasets/d6c27576ee034bb78621012738615598_0.csv',\n",
    "    'Niedersachsen': 'https://npgeo-corona-npgeo-de.hub.arcgis.com/datasets/14d82a9addf841789cd6ef5c1f67476a_0.csv',\n",
    "    'Nordrhein-Westfalen': 'https://npgeo-corona-npgeo-de.hub.arcgis.com/datasets/a99afefd4258435f8af660b6cbed9bf7_0.csv',\n",
    "    'Rheinland-Pfalz': 'https://npgeo-corona-npgeo-de.hub.arcgis.com/datasets/57e385f51a07495cb0a1e00a55ee1b5b_0.csv',\n",
    "    'Saarland': 'https://npgeo-corona-npgeo-de.hub.arcgis.com/datasets/0e59e1262dba4f5f8d6a904113bf7c99_0.csv',\n",
    "    'Sachsen': 'https://npgeo-corona-npgeo-de.hub.arcgis.com/datasets/3d3235c08d4f44a2afd088546b704902_0.csv',\n",
    "    'Sachsen-Anhalt': 'https://npgeo-corona-npgeo-de.hub.arcgis.com/datasets/06a1c943a9b845968b5ad0607f5f48f5_0.csv',\n",
    "    'Schleswig-Holstein': 'https://opendata.arcgis.com/datasets/4a648483aedd49b8a6655290181d4c2a_0.csv',\n",
    "    'Thüringen': 'https://npgeo-corona-npgeo-de.hub.arcgis.com/datasets/790f5423e03e49c4baec55a1a232c136_0.csv'\n",
    "}"
   ]
  },
  {
   "cell_type": "markdown",
   "metadata": {},
   "source": [
    "## Download complete dataset to dataframe"
   ]
  },
  {
   "cell_type": "code",
   "execution_count": null,
   "metadata": {},
   "outputs": [],
   "source": [
    "def get_rki_data():\n",
    "    for url in urls.values():\n",
    "        yield pd.read_csv(url)"
   ]
  },
  {
   "cell_type": "code",
   "execution_count": null,
   "metadata": {},
   "outputs": [],
   "source": [
    "for state in get_rki_data():\n",
    "    print(state.head())"
   ]
  },
  {
   "cell_type": "code",
   "execution_count": null,
   "metadata": {},
   "outputs": [],
   "source": []
  }
 ],
 "metadata": {
  "interpreter": {
   "hash": "f7f715f697b7e8b53ad57b5e34ace601dba4e3944b3c7065fde74f0206693713"
  },
  "kernelspec": {
   "display_name": "Python 3.9.7 64-bit ('coronalytics-hqehitxA-py3.9': poetry)",
   "language": "python",
   "name": "python3"
  },
  "language_info": {
   "codemirror_mode": {
    "name": "ipython",
    "version": 3
   },
   "file_extension": ".py",
   "mimetype": "text/x-python",
   "name": "python",
   "nbconvert_exporter": "python",
   "pygments_lexer": "ipython3",
   "version": "3.9.7"
  },
  "orig_nbformat": 4
 },
 "nbformat": 4,
 "nbformat_minor": 2
}
